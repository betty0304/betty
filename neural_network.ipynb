{
  "nbformat": 4,
  "nbformat_minor": 0,
  "metadata": {
    "colab": {
      "provenance": [],
      "gpuType": "T4",
      "authorship_tag": "ABX9TyNc9TlYKK9Z4yQPBWJvmA3o",
      "include_colab_link": true
    },
    "kernelspec": {
      "name": "python3",
      "display_name": "Python 3"
    },
    "language_info": {
      "name": "python"
    },
    "accelerator": "GPU"
  },
  "cells": [
    {
      "cell_type": "markdown",
      "metadata": {
        "id": "view-in-github",
        "colab_type": "text"
      },
      "source": [
        "<a href=\"https://colab.research.google.com/github/betty0304/betty/blob/main/neural_network.ipynb\" target=\"_parent\"><img src=\"https://colab.research.google.com/assets/colab-badge.svg\" alt=\"Open In Colab\"/></a>"
      ]
    },
    {
      "cell_type": "code",
      "source": [
        "!ls"
      ],
      "metadata": {
        "colab": {
          "base_uri": "https://localhost:8080/"
        },
        "id": "TIfSQW6DG2JC",
        "outputId": "49eb1911-978a-440f-ad75-d8fbb57f11aa"
      },
      "execution_count": 10,
      "outputs": [
        {
          "output_type": "stream",
          "name": "stdout",
          "text": [
            "sample_data\n"
          ]
        }
      ]
    },
    {
      "cell_type": "code",
      "source": [
        "#Uploading the Dataset\n",
        "\n",
        "from google.colab import files\n",
        "\n",
        "uploaded = files.upload()"
      ],
      "metadata": {
        "colab": {
          "base_uri": "https://localhost:8080/",
          "height": 42
        },
        "id": "ZD_CrJcrEbpq",
        "outputId": "1faa472b-fb07-44e0-9f7e-02ddd1d027fb"
      },
      "execution_count": 12,
      "outputs": [
        {
          "output_type": "display_data",
          "data": {
            "text/plain": [
              "<IPython.core.display.HTML object>"
            ],
            "text/html": [
              "\n",
              "     <input type=\"file\" id=\"files-6cb7210a-70d9-47a1-b3a7-e51f8a44e18d\" name=\"files[]\" multiple disabled\n",
              "        style=\"border:none\" />\n",
              "     <output id=\"result-6cb7210a-70d9-47a1-b3a7-e51f8a44e18d\">\n",
              "      Upload widget is only available when the cell has been executed in the\n",
              "      current browser session. Please rerun this cell to enable.\n",
              "      </output>\n",
              "      <script>// Copyright 2017 Google LLC\n",
              "//\n",
              "// Licensed under the Apache License, Version 2.0 (the \"License\");\n",
              "// you may not use this file except in compliance with the License.\n",
              "// You may obtain a copy of the License at\n",
              "//\n",
              "//      http://www.apache.org/licenses/LICENSE-2.0\n",
              "//\n",
              "// Unless required by applicable law or agreed to in writing, software\n",
              "// distributed under the License is distributed on an \"AS IS\" BASIS,\n",
              "// WITHOUT WARRANTIES OR CONDITIONS OF ANY KIND, either express or implied.\n",
              "// See the License for the specific language governing permissions and\n",
              "// limitations under the License.\n",
              "\n",
              "/**\n",
              " * @fileoverview Helpers for google.colab Python module.\n",
              " */\n",
              "(function(scope) {\n",
              "function span(text, styleAttributes = {}) {\n",
              "  const element = document.createElement('span');\n",
              "  element.textContent = text;\n",
              "  for (const key of Object.keys(styleAttributes)) {\n",
              "    element.style[key] = styleAttributes[key];\n",
              "  }\n",
              "  return element;\n",
              "}\n",
              "\n",
              "// Max number of bytes which will be uploaded at a time.\n",
              "const MAX_PAYLOAD_SIZE = 100 * 1024;\n",
              "\n",
              "function _uploadFiles(inputId, outputId) {\n",
              "  const steps = uploadFilesStep(inputId, outputId);\n",
              "  const outputElement = document.getElementById(outputId);\n",
              "  // Cache steps on the outputElement to make it available for the next call\n",
              "  // to uploadFilesContinue from Python.\n",
              "  outputElement.steps = steps;\n",
              "\n",
              "  return _uploadFilesContinue(outputId);\n",
              "}\n",
              "\n",
              "// This is roughly an async generator (not supported in the browser yet),\n",
              "// where there are multiple asynchronous steps and the Python side is going\n",
              "// to poll for completion of each step.\n",
              "// This uses a Promise to block the python side on completion of each step,\n",
              "// then passes the result of the previous step as the input to the next step.\n",
              "function _uploadFilesContinue(outputId) {\n",
              "  const outputElement = document.getElementById(outputId);\n",
              "  const steps = outputElement.steps;\n",
              "\n",
              "  const next = steps.next(outputElement.lastPromiseValue);\n",
              "  return Promise.resolve(next.value.promise).then((value) => {\n",
              "    // Cache the last promise value to make it available to the next\n",
              "    // step of the generator.\n",
              "    outputElement.lastPromiseValue = value;\n",
              "    return next.value.response;\n",
              "  });\n",
              "}\n",
              "\n",
              "/**\n",
              " * Generator function which is called between each async step of the upload\n",
              " * process.\n",
              " * @param {string} inputId Element ID of the input file picker element.\n",
              " * @param {string} outputId Element ID of the output display.\n",
              " * @return {!Iterable<!Object>} Iterable of next steps.\n",
              " */\n",
              "function* uploadFilesStep(inputId, outputId) {\n",
              "  const inputElement = document.getElementById(inputId);\n",
              "  inputElement.disabled = false;\n",
              "\n",
              "  const outputElement = document.getElementById(outputId);\n",
              "  outputElement.innerHTML = '';\n",
              "\n",
              "  const pickedPromise = new Promise((resolve) => {\n",
              "    inputElement.addEventListener('change', (e) => {\n",
              "      resolve(e.target.files);\n",
              "    });\n",
              "  });\n",
              "\n",
              "  const cancel = document.createElement('button');\n",
              "  inputElement.parentElement.appendChild(cancel);\n",
              "  cancel.textContent = 'Cancel upload';\n",
              "  const cancelPromise = new Promise((resolve) => {\n",
              "    cancel.onclick = () => {\n",
              "      resolve(null);\n",
              "    };\n",
              "  });\n",
              "\n",
              "  // Wait for the user to pick the files.\n",
              "  const files = yield {\n",
              "    promise: Promise.race([pickedPromise, cancelPromise]),\n",
              "    response: {\n",
              "      action: 'starting',\n",
              "    }\n",
              "  };\n",
              "\n",
              "  cancel.remove();\n",
              "\n",
              "  // Disable the input element since further picks are not allowed.\n",
              "  inputElement.disabled = true;\n",
              "\n",
              "  if (!files) {\n",
              "    return {\n",
              "      response: {\n",
              "        action: 'complete',\n",
              "      }\n",
              "    };\n",
              "  }\n",
              "\n",
              "  for (const file of files) {\n",
              "    const li = document.createElement('li');\n",
              "    li.append(span(file.name, {fontWeight: 'bold'}));\n",
              "    li.append(span(\n",
              "        `(${file.type || 'n/a'}) - ${file.size} bytes, ` +\n",
              "        `last modified: ${\n",
              "            file.lastModifiedDate ? file.lastModifiedDate.toLocaleDateString() :\n",
              "                                    'n/a'} - `));\n",
              "    const percent = span('0% done');\n",
              "    li.appendChild(percent);\n",
              "\n",
              "    outputElement.appendChild(li);\n",
              "\n",
              "    const fileDataPromise = new Promise((resolve) => {\n",
              "      const reader = new FileReader();\n",
              "      reader.onload = (e) => {\n",
              "        resolve(e.target.result);\n",
              "      };\n",
              "      reader.readAsArrayBuffer(file);\n",
              "    });\n",
              "    // Wait for the data to be ready.\n",
              "    let fileData = yield {\n",
              "      promise: fileDataPromise,\n",
              "      response: {\n",
              "        action: 'continue',\n",
              "      }\n",
              "    };\n",
              "\n",
              "    // Use a chunked sending to avoid message size limits. See b/62115660.\n",
              "    let position = 0;\n",
              "    do {\n",
              "      const length = Math.min(fileData.byteLength - position, MAX_PAYLOAD_SIZE);\n",
              "      const chunk = new Uint8Array(fileData, position, length);\n",
              "      position += length;\n",
              "\n",
              "      const base64 = btoa(String.fromCharCode.apply(null, chunk));\n",
              "      yield {\n",
              "        response: {\n",
              "          action: 'append',\n",
              "          file: file.name,\n",
              "          data: base64,\n",
              "        },\n",
              "      };\n",
              "\n",
              "      let percentDone = fileData.byteLength === 0 ?\n",
              "          100 :\n",
              "          Math.round((position / fileData.byteLength) * 100);\n",
              "      percent.textContent = `${percentDone}% done`;\n",
              "\n",
              "    } while (position < fileData.byteLength);\n",
              "  }\n",
              "\n",
              "  // All done.\n",
              "  yield {\n",
              "    response: {\n",
              "      action: 'complete',\n",
              "    }\n",
              "  };\n",
              "}\n",
              "\n",
              "scope.google = scope.google || {};\n",
              "scope.google.colab = scope.google.colab || {};\n",
              "scope.google.colab._files = {\n",
              "  _uploadFiles,\n",
              "  _uploadFilesContinue,\n",
              "};\n",
              "})(self);\n",
              "</script> "
            ]
          },
          "metadata": {}
        }
      ]
    },
    {
      "metadata": {
        "id": "WyCW5qO9GwKc"
      },
      "cell_type": "code",
      "source": [
        "#Save uploaded file on the Virtual Machine's\n",
        "#Thanks to user3800642 from StackOverflow\n",
        "\n",
        "with open(\"breast_cancer.csv\", 'w') as f:\n",
        "    f.write(uploaded[uploaded.keys()[0]])"
      ],
      "execution_count": null,
      "outputs": []
    },
    {
      "metadata": {
        "id": "YjAkyzSyCxDm",
        "colab": {
          "base_uri": "https://localhost:8080/"
        },
        "outputId": "1fd7aac3-88f9-45e2-8583-6498a416c7ad"
      },
      "cell_type": "code",
      "source": [
        "!ls"
      ],
      "execution_count": null,
      "outputs": [
        {
          "output_type": "stream",
          "name": "stdout",
          "text": [
            "sample_data\n"
          ]
        }
      ]
    },
    {
      "metadata": {
        "id": "VsluPna2Cypl"
      },
      "cell_type": "code",
      "source": [
        "import numpy as np\n",
        "import matplotlib.pyplot as plt\n",
        "import pandas as pd\n",
        "\n",
        "#Importing dataset\n",
        "dataset = pd.read_csv('breast_cancer.csv')"
      ],
      "execution_count": null,
      "outputs": []
    },
    {
      "metadata": {
        "id": "JNMlD8egDEl1",
        "colab": {
          "base_uri": "https://localhost:8080/",
          "height": 270
        },
        "outputId": "1ba69010-454b-4db1-a232-8dc999d53015"
      },
      "cell_type": "code",
      "source": [
        "dataset.head(5)"
      ],
      "execution_count": null,
      "outputs": [
        {
          "output_type": "execute_result",
          "data": {
            "text/html": [
              "<div>\n",
              "<style>\n",
              "    .dataframe thead tr:only-child th {\n",
              "        text-align: right;\n",
              "    }\n",
              "\n",
              "    .dataframe thead th {\n",
              "        text-align: left;\n",
              "    }\n",
              "\n",
              "    .dataframe tbody tr th {\n",
              "        vertical-align: top;\n",
              "    }\n",
              "</style>\n",
              "<table border=\"1\" class=\"dataframe\">\n",
              "  <thead>\n",
              "    <tr style=\"text-align: right;\">\n",
              "      <th></th>\n",
              "      <th>id</th>\n",
              "      <th>diagnosis</th>\n",
              "      <th>radius_mean</th>\n",
              "      <th>texture_mean</th>\n",
              "      <th>perimeter_mean</th>\n",
              "      <th>area_mean</th>\n",
              "      <th>smoothness_mean</th>\n",
              "      <th>compactness_mean</th>\n",
              "      <th>concavity_mean</th>\n",
              "      <th>concave points_mean</th>\n",
              "      <th>...</th>\n",
              "      <th>texture_worst</th>\n",
              "      <th>perimeter_worst</th>\n",
              "      <th>area_worst</th>\n",
              "      <th>smoothness_worst</th>\n",
              "      <th>compactness_worst</th>\n",
              "      <th>concavity_worst</th>\n",
              "      <th>concave points_worst</th>\n",
              "      <th>symmetry_worst</th>\n",
              "      <th>fractal_dimension_worst</th>\n",
              "      <th>Unnamed: 32</th>\n",
              "    </tr>\n",
              "  </thead>\n",
              "  <tbody>\n",
              "    <tr>\n",
              "      <th>0</th>\n",
              "      <td>842302</td>\n",
              "      <td>M</td>\n",
              "      <td>17.99</td>\n",
              "      <td>10.38</td>\n",
              "      <td>122.80</td>\n",
              "      <td>1001.0</td>\n",
              "      <td>0.11840</td>\n",
              "      <td>0.27760</td>\n",
              "      <td>0.3001</td>\n",
              "      <td>0.14710</td>\n",
              "      <td>...</td>\n",
              "      <td>17.33</td>\n",
              "      <td>184.60</td>\n",
              "      <td>2019.0</td>\n",
              "      <td>0.1622</td>\n",
              "      <td>0.6656</td>\n",
              "      <td>0.7119</td>\n",
              "      <td>0.2654</td>\n",
              "      <td>0.4601</td>\n",
              "      <td>0.11890</td>\n",
              "      <td>NaN</td>\n",
              "    </tr>\n",
              "    <tr>\n",
              "      <th>1</th>\n",
              "      <td>842517</td>\n",
              "      <td>M</td>\n",
              "      <td>20.57</td>\n",
              "      <td>17.77</td>\n",
              "      <td>132.90</td>\n",
              "      <td>1326.0</td>\n",
              "      <td>0.08474</td>\n",
              "      <td>0.07864</td>\n",
              "      <td>0.0869</td>\n",
              "      <td>0.07017</td>\n",
              "      <td>...</td>\n",
              "      <td>23.41</td>\n",
              "      <td>158.80</td>\n",
              "      <td>1956.0</td>\n",
              "      <td>0.1238</td>\n",
              "      <td>0.1866</td>\n",
              "      <td>0.2416</td>\n",
              "      <td>0.1860</td>\n",
              "      <td>0.2750</td>\n",
              "      <td>0.08902</td>\n",
              "      <td>NaN</td>\n",
              "    </tr>\n",
              "    <tr>\n",
              "      <th>2</th>\n",
              "      <td>84300903</td>\n",
              "      <td>M</td>\n",
              "      <td>19.69</td>\n",
              "      <td>21.25</td>\n",
              "      <td>130.00</td>\n",
              "      <td>1203.0</td>\n",
              "      <td>0.10960</td>\n",
              "      <td>0.15990</td>\n",
              "      <td>0.1974</td>\n",
              "      <td>0.12790</td>\n",
              "      <td>...</td>\n",
              "      <td>25.53</td>\n",
              "      <td>152.50</td>\n",
              "      <td>1709.0</td>\n",
              "      <td>0.1444</td>\n",
              "      <td>0.4245</td>\n",
              "      <td>0.4504</td>\n",
              "      <td>0.2430</td>\n",
              "      <td>0.3613</td>\n",
              "      <td>0.08758</td>\n",
              "      <td>NaN</td>\n",
              "    </tr>\n",
              "    <tr>\n",
              "      <th>3</th>\n",
              "      <td>84348301</td>\n",
              "      <td>M</td>\n",
              "      <td>11.42</td>\n",
              "      <td>20.38</td>\n",
              "      <td>77.58</td>\n",
              "      <td>386.1</td>\n",
              "      <td>0.14250</td>\n",
              "      <td>0.28390</td>\n",
              "      <td>0.2414</td>\n",
              "      <td>0.10520</td>\n",
              "      <td>...</td>\n",
              "      <td>26.50</td>\n",
              "      <td>98.87</td>\n",
              "      <td>567.7</td>\n",
              "      <td>0.2098</td>\n",
              "      <td>0.8663</td>\n",
              "      <td>0.6869</td>\n",
              "      <td>0.2575</td>\n",
              "      <td>0.6638</td>\n",
              "      <td>0.17300</td>\n",
              "      <td>NaN</td>\n",
              "    </tr>\n",
              "    <tr>\n",
              "      <th>4</th>\n",
              "      <td>84358402</td>\n",
              "      <td>M</td>\n",
              "      <td>20.29</td>\n",
              "      <td>14.34</td>\n",
              "      <td>135.10</td>\n",
              "      <td>1297.0</td>\n",
              "      <td>0.10030</td>\n",
              "      <td>0.13280</td>\n",
              "      <td>0.1980</td>\n",
              "      <td>0.10430</td>\n",
              "      <td>...</td>\n",
              "      <td>16.67</td>\n",
              "      <td>152.20</td>\n",
              "      <td>1575.0</td>\n",
              "      <td>0.1374</td>\n",
              "      <td>0.2050</td>\n",
              "      <td>0.4000</td>\n",
              "      <td>0.1625</td>\n",
              "      <td>0.2364</td>\n",
              "      <td>0.07678</td>\n",
              "      <td>NaN</td>\n",
              "    </tr>\n",
              "  </tbody>\n",
              "</table>\n",
              "<p>5 rows × 33 columns</p>\n",
              "</div>"
            ],
            "text/plain": [
              "         id diagnosis  radius_mean  texture_mean  perimeter_mean  area_mean  \\\n",
              "0    842302         M        17.99         10.38          122.80     1001.0   \n",
              "1    842517         M        20.57         17.77          132.90     1326.0   \n",
              "2  84300903         M        19.69         21.25          130.00     1203.0   \n",
              "3  84348301         M        11.42         20.38           77.58      386.1   \n",
              "4  84358402         M        20.29         14.34          135.10     1297.0   \n",
              "\n",
              "   smoothness_mean  compactness_mean  concavity_mean  concave points_mean  \\\n",
              "0          0.11840           0.27760          0.3001              0.14710   \n",
              "1          0.08474           0.07864          0.0869              0.07017   \n",
              "2          0.10960           0.15990          0.1974              0.12790   \n",
              "3          0.14250           0.28390          0.2414              0.10520   \n",
              "4          0.10030           0.13280          0.1980              0.10430   \n",
              "\n",
              "      ...       texture_worst  perimeter_worst  area_worst  smoothness_worst  \\\n",
              "0     ...               17.33           184.60      2019.0            0.1622   \n",
              "1     ...               23.41           158.80      1956.0            0.1238   \n",
              "2     ...               25.53           152.50      1709.0            0.1444   \n",
              "3     ...               26.50            98.87       567.7            0.2098   \n",
              "4     ...               16.67           152.20      1575.0            0.1374   \n",
              "\n",
              "   compactness_worst  concavity_worst  concave points_worst  symmetry_worst  \\\n",
              "0             0.6656           0.7119                0.2654          0.4601   \n",
              "1             0.1866           0.2416                0.1860          0.2750   \n",
              "2             0.4245           0.4504                0.2430          0.3613   \n",
              "3             0.8663           0.6869                0.2575          0.6638   \n",
              "4             0.2050           0.4000                0.1625          0.2364   \n",
              "\n",
              "   fractal_dimension_worst  Unnamed: 32  \n",
              "0                  0.11890          NaN  \n",
              "1                  0.08902          NaN  \n",
              "2                  0.08758          NaN  \n",
              "3                  0.17300          NaN  \n",
              "4                  0.07678          NaN  \n",
              "\n",
              "[5 rows x 33 columns]"
            ]
          },
          "metadata": {
            "tags": []
          },
          "execution_count": 5
        }
      ]
    },
    {
      "metadata": {
        "id": "jkRaEx4FDSoa"
      },
      "cell_type": "code",
      "source": [
        "#Seperating dependent and independent variables.\n",
        "\n",
        "X = dataset.iloc[:, 2:32].values  #Note: Exclude Last column with all NaN values.\n",
        "y = dataset.iloc[:, 1].values"
      ],
      "execution_count": null,
      "outputs": []
    },
    {
      "metadata": {
        "id": "Sy_XHjajzQD5",
        "colab": {
          "base_uri": "https://localhost:8080/",
          "height": 34
        },
        "outputId": "0f26dc39-4245-4839-aa87-202ed949de7a"
      },
      "cell_type": "code",
      "source": [
        "X.shape"
      ],
      "execution_count": null,
      "outputs": [
        {
          "output_type": "execute_result",
          "data": {
            "text/plain": [
              "(569, 30)"
            ]
          },
          "metadata": {
            "tags": []
          },
          "execution_count": 7
        }
      ]
    },
    {
      "metadata": {
        "id": "tOC2Y4_2FdKg"
      },
      "cell_type": "code",
      "source": [
        "#Encoding Categorical Data\n",
        "from sklearn.preprocessing import LabelEncoder\n",
        "labelencoder = LabelEncoder()\n",
        "\n",
        "y = labelencoder.fit_transform(y)"
      ],
      "execution_count": null,
      "outputs": []
    },
    {
      "metadata": {
        "id": "KviqCj5KVyKR"
      },
      "cell_type": "code",
      "source": [
        "'''#OneHotEncoder\n",
        "from sklearn.preprocessing import OneHotEncoder\n",
        "\n",
        "onehotencoder = OneHotEncoder()\n",
        "y = onehotencoder.fit_transform(y).toarray()\n",
        "y = y[:, 1:]'''"
      ],
      "execution_count": null,
      "outputs": []
    },
    {
      "metadata": {
        "id": "pGEasn5XaGrH"
      },
      "cell_type": "code",
      "source": [
        "y.shape"
      ],
      "execution_count": null,
      "outputs": []
    },
    {
      "metadata": {
        "id": "N-MZKcZ3LFhA"
      },
      "cell_type": "code",
      "source": [
        "#Splitting into Training set and Test set\n",
        "from sklearn.model_selection import train_test_split\n",
        "X_train, X_test, y_train, y_test = train_test_split(X, y, test_size = 0.2, random_state = 42)"
      ],
      "execution_count": null,
      "outputs": []
    },
    {
      "metadata": {
        "id": "_aePbHmfLKJU"
      },
      "cell_type": "code",
      "source": [
        "#Feature Scaling\n",
        "from sklearn.preprocessing import StandardScaler\n",
        "sc = StandardScaler()\n",
        "X_train = sc.fit_transform(X_train)\n",
        "X_test = sc.fit_transform(X_test)"
      ],
      "execution_count": null,
      "outputs": []
    },
    {
      "metadata": {
        "id": "dK3hmixALohZ"
      },
      "cell_type": "code",
      "source": [
        "#ANN"
      ],
      "execution_count": null,
      "outputs": []
    },
    {
      "metadata": {
        "id": "0KUtiO2mLsLc"
      },
      "cell_type": "code",
      "source": [
        "# https://keras.io/\n",
        "!pip install -q keras"
      ],
      "execution_count": null,
      "outputs": []
    },
    {
      "metadata": {
        "id": "4NXuXJktLuTJ",
        "colab": {
          "base_uri": "https://localhost:8080/",
          "height": 34
        },
        "outputId": "2ec6db10-6daf-4ed3-e7e8-edc07b567205"
      },
      "cell_type": "code",
      "source": [
        "# Importing the Keras libraries and packages\n",
        "import keras\n",
        "from keras.models import Sequential\n",
        "from keras.layers import Dense"
      ],
      "execution_count": null,
      "outputs": [
        {
          "output_type": "stream",
          "text": [
            "Using TensorFlow backend.\n"
          ],
          "name": "stderr"
        }
      ]
    },
    {
      "metadata": {
        "id": "Z2K-DkZZLxfs"
      },
      "cell_type": "code",
      "source": [
        "# Initialising the ANN\n",
        "classifier = Sequential()"
      ],
      "execution_count": null,
      "outputs": []
    },
    {
      "metadata": {
        "id": "wGDheyKlL1De"
      },
      "cell_type": "code",
      "source": [
        "# Adding the input layer and the first hidden layer\n",
        "classifier.add(Dense(units = 16, kernel_initializer = 'uniform', activation = 'relu', input_dim = 30))\n",
        "\n",
        "# Adding the second hidden layer\n",
        "classifier.add(Dense(units = 16, kernel_initializer = 'uniform', activation = 'relu'))\n",
        "\n",
        "# Adding the output layer\n",
        "classifier.add(Dense(units = 1, kernel_initializer = 'uniform', activation = 'sigmoid'))"
      ],
      "execution_count": null,
      "outputs": []
    },
    {
      "metadata": {
        "id": "e8bdSoU7M8e_"
      },
      "cell_type": "code",
      "source": [
        "# Compiling the ANN\n",
        "classifier.compile(optimizer = 'adam', loss = 'binary_crossentropy', metrics = ['accuracy'])"
      ],
      "execution_count": null,
      "outputs": []
    },
    {
      "metadata": {
        "id": "wJ3Z7jPaM_I4",
        "colab": {
          "base_uri": "https://localhost:8080/",
          "height": 3454
        },
        "outputId": "5be5941c-a61e-41fd-f198-f837e7f362c9"
      },
      "cell_type": "code",
      "source": [
        "# Fitting the ANN to the Training set\n",
        "classifier.fit(X_train, y_train, batch_size = 10, epochs = 100)"
      ],
      "execution_count": null,
      "outputs": [
        {
          "output_type": "stream",
          "text": [
            "Epoch 1/100\n",
            "455/455 [==============================] - 0s 323us/step - loss: 0.6749 - acc: 0.7736\n",
            "Epoch 2/100\n",
            "455/455 [==============================] - 0s 143us/step - loss: 0.4822 - acc: 0.9253\n",
            "Epoch 3/100\n",
            "455/455 [==============================] - 0s 115us/step - loss: 0.2302 - acc: 0.9363\n",
            "Epoch 4/100\n",
            "455/455 [==============================] - 0s 130us/step - loss: 0.1448 - acc: 0.9560\n",
            "Epoch 5/100\n",
            "455/455 [==============================] - 0s 112us/step - loss: 0.1095 - acc: 0.9692\n",
            "Epoch 6/100\n",
            "455/455 [==============================] - 0s 144us/step - loss: 0.0922 - acc: 0.9758\n",
            "Epoch 7/100\n",
            "455/455 [==============================] - 0s 139us/step - loss: 0.0800 - acc: 0.9802\n",
            "Epoch 8/100\n",
            "455/455 [==============================] - 0s 158us/step - loss: 0.0727 - acc: 0.9780\n",
            "Epoch 9/100\n",
            "455/455 [==============================] - 0s 150us/step - loss: 0.0673 - acc: 0.9802\n",
            "Epoch 10/100\n",
            "455/455 [==============================] - 0s 145us/step - loss: 0.0640 - acc: 0.9846\n",
            "Epoch 11/100\n",
            "455/455 [==============================] - 0s 137us/step - loss: 0.0615 - acc: 0.9846\n",
            "Epoch 12/100\n",
            "455/455 [==============================] - 0s 136us/step - loss: 0.0591 - acc: 0.9846\n",
            "Epoch 13/100\n",
            "455/455 [==============================] - 0s 140us/step - loss: 0.0573 - acc: 0.9846\n",
            "Epoch 14/100\n",
            "455/455 [==============================] - 0s 131us/step - loss: 0.0552 - acc: 0.9846\n",
            "Epoch 15/100\n",
            "455/455 [==============================] - 0s 136us/step - loss: 0.0534 - acc: 0.9846\n",
            "Epoch 16/100\n",
            "455/455 [==============================] - 0s 152us/step - loss: 0.0511 - acc: 0.9846\n",
            "Epoch 17/100\n",
            "455/455 [==============================] - 0s 156us/step - loss: 0.0498 - acc: 0.9846\n",
            "Epoch 18/100\n",
            "455/455 [==============================] - 0s 144us/step - loss: 0.0476 - acc: 0.9846\n",
            "Epoch 19/100\n",
            "455/455 [==============================] - 0s 132us/step - loss: 0.0458 - acc: 0.9846\n",
            "Epoch 20/100\n",
            "455/455 [==============================] - 0s 128us/step - loss: 0.0439 - acc: 0.9846\n",
            "Epoch 21/100\n",
            "455/455 [==============================] - 0s 146us/step - loss: 0.0427 - acc: 0.9846\n",
            "Epoch 22/100\n",
            "455/455 [==============================] - 0s 142us/step - loss: 0.0418 - acc: 0.9868\n",
            "Epoch 23/100\n",
            "455/455 [==============================] - 0s 151us/step - loss: 0.0393 - acc: 0.9868\n",
            "Epoch 24/100\n",
            "455/455 [==============================] - 0s 135us/step - loss: 0.0373 - acc: 0.9912\n",
            "Epoch 25/100\n",
            " 10/455 [..............................] - ETA: 0s - loss: 0.0066 - acc: 1.0000"
          ],
          "name": "stdout"
        },
        {
          "output_type": "stream",
          "text": [
            "455/455 [==============================] - 0s 147us/step - loss: 0.0365 - acc: 0.9934\n",
            "Epoch 26/100\n",
            "455/455 [==============================] - 0s 146us/step - loss: 0.0343 - acc: 0.9912\n",
            "Epoch 27/100\n",
            "455/455 [==============================] - 0s 134us/step - loss: 0.0342 - acc: 0.9912\n",
            "Epoch 28/100\n",
            "455/455 [==============================] - 0s 155us/step - loss: 0.0318 - acc: 0.9934\n",
            "Epoch 29/100\n",
            "455/455 [==============================] - 0s 159us/step - loss: 0.0298 - acc: 0.9934\n",
            "Epoch 30/100\n",
            "455/455 [==============================] - 0s 158us/step - loss: 0.0289 - acc: 0.9934\n",
            "Epoch 31/100\n",
            "455/455 [==============================] - 0s 162us/step - loss: 0.0278 - acc: 0.9934\n",
            "Epoch 32/100\n",
            "455/455 [==============================] - 0s 162us/step - loss: 0.0268 - acc: 0.9934\n",
            "Epoch 33/100\n",
            "455/455 [==============================] - 0s 163us/step - loss: 0.0252 - acc: 0.9934\n",
            "Epoch 34/100\n",
            "455/455 [==============================] - 0s 152us/step - loss: 0.0245 - acc: 0.9934\n",
            "Epoch 35/100\n",
            "455/455 [==============================] - 0s 147us/step - loss: 0.0230 - acc: 0.9934\n",
            "Epoch 36/100\n",
            "455/455 [==============================] - 0s 150us/step - loss: 0.0222 - acc: 0.9934\n",
            "Epoch 37/100\n",
            "455/455 [==============================] - 0s 146us/step - loss: 0.0229 - acc: 0.9934\n",
            "Epoch 38/100\n",
            "455/455 [==============================] - 0s 172us/step - loss: 0.0202 - acc: 0.9934\n",
            "Epoch 39/100\n",
            "455/455 [==============================] - 0s 145us/step - loss: 0.0195 - acc: 0.9934\n",
            "Epoch 40/100\n",
            "455/455 [==============================] - 0s 153us/step - loss: 0.0186 - acc: 0.9956\n",
            "Epoch 41/100\n",
            "455/455 [==============================] - 0s 152us/step - loss: 0.0179 - acc: 0.9934\n",
            "Epoch 42/100\n",
            "455/455 [==============================] - 0s 150us/step - loss: 0.0167 - acc: 0.9956\n",
            "Epoch 43/100\n",
            "455/455 [==============================] - 0s 149us/step - loss: 0.0162 - acc: 0.9934\n",
            "Epoch 44/100\n",
            "455/455 [==============================] - 0s 166us/step - loss: 0.0167 - acc: 0.9956\n",
            "Epoch 45/100\n",
            "455/455 [==============================] - 0s 160us/step - loss: 0.0157 - acc: 0.9934\n",
            "Epoch 46/100\n",
            "455/455 [==============================] - 0s 154us/step - loss: 0.0147 - acc: 0.9956\n",
            "Epoch 47/100\n",
            "455/455 [==============================] - 0s 160us/step - loss: 0.0144 - acc: 0.9956\n",
            "Epoch 48/100\n",
            "455/455 [==============================] - 0s 151us/step - loss: 0.0130 - acc: 0.9956\n",
            "Epoch 49/100\n",
            "455/455 [==============================] - 0s 146us/step - loss: 0.0116 - acc: 0.9956\n",
            "Epoch 50/100\n",
            " 10/455 [..............................] - ETA: 0s - loss: 0.0010 - acc: 1.0000"
          ],
          "name": "stdout"
        },
        {
          "output_type": "stream",
          "text": [
            "455/455 [==============================] - 0s 181us/step - loss: 0.0115 - acc: 0.9956\n",
            "Epoch 51/100\n",
            "455/455 [==============================] - 0s 156us/step - loss: 0.0106 - acc: 0.9956\n",
            "Epoch 52/100\n",
            "455/455 [==============================] - 0s 152us/step - loss: 0.0100 - acc: 0.9956\n",
            "Epoch 53/100\n",
            "455/455 [==============================] - 0s 150us/step - loss: 0.0096 - acc: 0.9956\n",
            "Epoch 54/100\n",
            "455/455 [==============================] - 0s 149us/step - loss: 0.0094 - acc: 0.9956\n",
            "Epoch 55/100\n",
            "455/455 [==============================] - 0s 146us/step - loss: 0.0085 - acc: 0.9978\n",
            "Epoch 56/100\n",
            "455/455 [==============================] - 0s 167us/step - loss: 0.0090 - acc: 0.9934\n",
            "Epoch 57/100\n",
            "455/455 [==============================] - 0s 190us/step - loss: 0.0083 - acc: 0.9978\n",
            "Epoch 58/100\n",
            "455/455 [==============================] - 0s 149us/step - loss: 0.0076 - acc: 0.9956\n",
            "Epoch 59/100\n",
            "455/455 [==============================] - 0s 147us/step - loss: 0.0071 - acc: 0.9978\n",
            "Epoch 60/100\n",
            "455/455 [==============================] - 0s 149us/step - loss: 0.0070 - acc: 0.9978\n",
            "Epoch 61/100\n",
            "455/455 [==============================] - 0s 137us/step - loss: 0.0067 - acc: 0.9956\n",
            "Epoch 62/100\n",
            "455/455 [==============================] - 0s 186us/step - loss: 0.0067 - acc: 0.9956\n",
            "Epoch 63/100\n",
            "455/455 [==============================] - 0s 155us/step - loss: 0.0061 - acc: 0.9978\n",
            "Epoch 64/100\n",
            "455/455 [==============================] - 0s 159us/step - loss: 0.0061 - acc: 0.9978\n",
            "Epoch 65/100\n",
            "455/455 [==============================] - 0s 148us/step - loss: 0.0054 - acc: 0.9978\n",
            "Epoch 66/100\n",
            "455/455 [==============================] - 0s 164us/step - loss: 0.0058 - acc: 0.9978\n",
            "Epoch 67/100\n",
            "455/455 [==============================] - 0s 158us/step - loss: 0.0051 - acc: 0.9978\n",
            "Epoch 68/100\n",
            "455/455 [==============================] - 0s 149us/step - loss: 0.0051 - acc: 1.0000\n",
            "Epoch 69/100\n",
            "455/455 [==============================] - 0s 160us/step - loss: 0.0049 - acc: 0.9978\n",
            "Epoch 70/100\n",
            "455/455 [==============================] - 0s 156us/step - loss: 0.0046 - acc: 1.0000\n",
            "Epoch 71/100\n",
            "455/455 [==============================] - 0s 179us/step - loss: 0.0043 - acc: 1.0000\n",
            "Epoch 72/100\n",
            "455/455 [==============================] - 0s 157us/step - loss: 0.0044 - acc: 0.9978\n",
            "Epoch 73/100\n",
            "455/455 [==============================] - 0s 147us/step - loss: 0.0042 - acc: 1.0000\n",
            "Epoch 74/100\n",
            "410/455 [==========================>...] - ETA: 0s - loss: 0.0049 - acc: 1.0000    "
          ],
          "name": "stdout"
        },
        {
          "output_type": "stream",
          "text": [
            "455/455 [==============================] - 0s 146us/step - loss: 0.0046 - acc: 1.0000\n",
            "Epoch 75/100\n",
            "455/455 [==============================] - 0s 159us/step - loss: 0.0039 - acc: 1.0000\n",
            "Epoch 76/100\n",
            "455/455 [==============================] - 0s 160us/step - loss: 0.0040 - acc: 1.0000\n",
            "Epoch 77/100\n",
            "455/455 [==============================] - 0s 154us/step - loss: 0.0037 - acc: 1.0000\n",
            "Epoch 78/100\n",
            "455/455 [==============================] - 0s 154us/step - loss: 0.0035 - acc: 1.0000\n",
            "Epoch 79/100\n",
            "455/455 [==============================] - 0s 162us/step - loss: 0.0036 - acc: 1.0000\n",
            "Epoch 80/100\n",
            "455/455 [==============================] - 0s 160us/step - loss: 0.0031 - acc: 1.0000\n",
            "Epoch 81/100\n",
            "455/455 [==============================] - 0s 161us/step - loss: 0.0030 - acc: 1.0000\n",
            "Epoch 82/100\n",
            "455/455 [==============================] - 0s 148us/step - loss: 0.0029 - acc: 1.0000\n",
            "Epoch 83/100\n",
            "455/455 [==============================] - 0s 153us/step - loss: 0.0028 - acc: 1.0000\n",
            "Epoch 84/100\n",
            "455/455 [==============================] - 0s 152us/step - loss: 0.0027 - acc: 1.0000\n",
            "Epoch 85/100\n",
            "455/455 [==============================] - 0s 162us/step - loss: 0.0027 - acc: 1.0000\n",
            "Epoch 86/100\n",
            "455/455 [==============================] - 0s 148us/step - loss: 0.0028 - acc: 1.0000\n",
            "Epoch 87/100\n",
            "455/455 [==============================] - 0s 142us/step - loss: 0.0024 - acc: 1.0000\n",
            "Epoch 88/100\n",
            "455/455 [==============================] - 0s 171us/step - loss: 0.0024 - acc: 1.0000\n",
            "Epoch 89/100\n",
            "455/455 [==============================] - 0s 161us/step - loss: 0.0022 - acc: 1.0000\n",
            "Epoch 90/100\n",
            "455/455 [==============================] - 0s 154us/step - loss: 0.0025 - acc: 1.0000\n",
            "Epoch 91/100\n",
            "455/455 [==============================] - 0s 177us/step - loss: 0.0022 - acc: 1.0000\n",
            "Epoch 92/100\n",
            "455/455 [==============================] - 0s 179us/step - loss: 0.0019 - acc: 1.0000\n",
            "Epoch 93/100\n",
            "455/455 [==============================] - 0s 160us/step - loss: 0.0020 - acc: 1.0000\n",
            "Epoch 94/100\n",
            "455/455 [==============================] - 0s 159us/step - loss: 0.0019 - acc: 1.0000\n",
            "Epoch 95/100\n",
            "455/455 [==============================] - 0s 168us/step - loss: 0.0019 - acc: 1.0000\n",
            "Epoch 96/100\n",
            "455/455 [==============================] - 0s 168us/step - loss: 0.0017 - acc: 1.0000\n",
            "Epoch 97/100\n",
            "455/455 [==============================] - 0s 167us/step - loss: 0.0017 - acc: 1.0000\n",
            "Epoch 98/100\n",
            "455/455 [==============================] - 0s 162us/step - loss: 0.0016 - acc: 1.0000\n"
          ],
          "name": "stdout"
        },
        {
          "output_type": "stream",
          "text": [
            "Epoch 99/100\n",
            "455/455 [==============================] - 0s 160us/step - loss: 0.0015 - acc: 1.0000\n",
            "Epoch 100/100\n",
            "455/455 [==============================] - 0s 185us/step - loss: 0.0015 - acc: 1.0000\n"
          ],
          "name": "stdout"
        },
        {
          "output_type": "execute_result",
          "data": {
            "text/plain": [
              "<keras.callbacks.History at 0x7f5ecb63ae10>"
            ]
          },
          "metadata": {
            "tags": []
          },
          "execution_count": 17
        }
      ]
    },
    {
      "metadata": {
        "id": "UeFiVvqLNBfq"
      },
      "cell_type": "code",
      "source": [
        "# Predicting the Test set results\n",
        "y_pred = classifier.predict(X_test)\n",
        "y_pred = (y_pred > 0.5)\n",
        "\n",
        "# Making the Confusion Matrix\n",
        "from sklearn.metrics import confusion_matrix\n",
        "cm = confusion_matrix(y_test, y_pred)"
      ],
      "execution_count": null,
      "outputs": []
    },
    {
      "metadata": {
        "id": "f_aHVatt1GUF",
        "colab": {
          "base_uri": "https://localhost:8080/",
          "height": 51
        },
        "outputId": "86285a7b-ffec-452e-eb70-6129044024da"
      },
      "cell_type": "code",
      "source": [
        "cm"
      ],
      "execution_count": null,
      "outputs": [
        {
          "output_type": "execute_result",
          "data": {
            "text/plain": [
              "array([[70,  1],\n",
              "       [ 1, 42]])"
            ]
          },
          "metadata": {
            "tags": []
          },
          "execution_count": 19
        }
      ]
    }
  ]
}